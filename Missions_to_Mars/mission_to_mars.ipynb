{
 "cells": [
  {
   "cell_type": "code",
   "execution_count": 3,
   "metadata": {},
   "outputs": [],
   "source": [
    "import requests\n",
    "from bs4 import BeautifulSoup\n",
    "from splinter import Browser\n",
    "from selenium import webdriver\n",
    "import pandas as pd"
   ]
  },
  {
   "cell_type": "code",
   "execution_count": 44,
   "metadata": {},
   "outputs": [],
   "source": [
    "url = 'https://mars.nasa.gov/news/'\n",
    "r = requests.get(url)\n",
    "r.text\n",
    "soup = BeautifulSoup(r.text, 'html.parser')"
   ]
  },
  {
   "cell_type": "code",
   "execution_count": 101,
   "metadata": {},
   "outputs": [],
   "source": [
    "titles = soup.findAll(\"div\", {\"class\": \"content_title\"})\n",
    "titles = [titles[i].findChildren()[0].text.replace(\"\\n\",\"\") for i in range(len(titles))]\n",
    "texts = soup.findAll(\"div\", {\"class\": \"rollover_description_inner\"})\n",
    "texts = [texts[i].text.replace(\"\\n\",\"\").strip() for i in range(len(texts))]\n",
    "text_dic = []\n",
    "for i in range(len(texts)):\n",
    "    item={}\n",
    "    item['type'] = \"texttitle\"\n",
    "    item['title']=titles[i]\n",
    "    item['text']=texts[i] \n",
    "    text_dic.append(item)"
   ]
  },
  {
   "cell_type": "code",
   "execution_count": 15,
   "metadata": {},
   "outputs": [
    {
     "data": {
      "text/plain": [
       "'/spaceimages/images/mediumsize/PIA14884_ip.jpg'"
      ]
     },
     "execution_count": 15,
     "metadata": {},
     "output_type": "execute_result"
    }
   ],
   "source": [
    "url = 'https://www.jpl.nasa.gov/spaceimages/?search=&category=Mars'\n",
    "r = requests.get(url)\n",
    "r.text\n",
    "soup = BeautifulSoup(r.text, 'html.parser')\n",
    "image_button = soup.find('a',{'id':'full_image'})\n",
    "featured_image_url = 'https://www.jpl.nasa.gov'+image_button['data-fancybox-href']"
   ]
  },
  {
   "cell_type": "code",
   "execution_count": 47,
   "metadata": {},
   "outputs": [],
   "source": [
    "url_mars = 'https://space-facts.com/mars/'\n",
    "r = requests.get(url_mars)\n",
    "r.text\n",
    "soup_mars = BeautifulSoup(r.text, 'html.parser')\n",
    "table = soup_mars.find(\"table\",{\"id\":\"tablepress-p-mars-no-2\"})"
   ]
  },
  {
   "cell_type": "code",
   "execution_count": 103,
   "metadata": {},
   "outputs": [],
   "source": [
    "mars_table_dic={\"type\":\"data_table\"}\n",
    "mars_table = pd.read_html(str(table))[0]\n",
    "for index , row in mars_table.iterrows():\n",
    "    mars_table_dic[row[0]]=row[1]\n"
   ]
  },
  {
   "cell_type": "code",
   "execution_count": 49,
   "metadata": {},
   "outputs": [],
   "source": [
    "#here im defining the URL \n",
    "url_astro = 'https://astrogeology.usgs.gov/search/results?q=hemisphere+enhanced&k1=target&v1=Mars'\n",
    "#extracting the contents of URL into Soup variable\n",
    "soup_mars = BeautifulSoup(requests.get(url_astro).text, 'html.parser')\n",
    "# Finding the interested variables in the Soup\n",
    "links = soup_mars.findAll(\"a\",{\"class\":\"itemLink product-item\"})"
   ]
  },
  {
   "cell_type": "code",
   "execution_count": 106,
   "metadata": {},
   "outputs": [],
   "source": [
    "hemisphere_image_urls=[]\n",
    "for link in links:\n",
    "    hemisphere_image_urls.append({\"type\":\"titleimg\",\"title\":link.findChildren(\"div\")[0].findChildren(\"h3\")[0].text,\"img_url\":\"https://astropedia.astrogeology.usgs.gov/download/Mars/Viking/\"+link[\"href\"].split(\"/\")[-1]+\".tif/full.jpg\"})\n"
   ]
  },
  {
   "cell_type": "code",
   "execution_count": 107,
   "metadata": {},
   "outputs": [
    {
     "data": {
      "text/plain": [
       "[{'type': 'titleimg',\n",
       "  'title': 'Cerberus Hemisphere Enhanced',\n",
       "  'img_url': 'https://astropedia.astrogeology.usgs.gov/download/Mars/Viking/cerberus_enhanced.tif/full.jpg'},\n",
       " {'type': 'titleimg',\n",
       "  'title': 'Schiaparelli Hemisphere Enhanced',\n",
       "  'img_url': 'https://astropedia.astrogeology.usgs.gov/download/Mars/Viking/schiaparelli_enhanced.tif/full.jpg'},\n",
       " {'type': 'titleimg',\n",
       "  'title': 'Syrtis Major Hemisphere Enhanced',\n",
       "  'img_url': 'https://astropedia.astrogeology.usgs.gov/download/Mars/Viking/syrtis_major_enhanced.tif/full.jpg'},\n",
       " {'type': 'titleimg',\n",
       "  'title': 'Valles Marineris Hemisphere Enhanced',\n",
       "  'img_url': 'https://astropedia.astrogeology.usgs.gov/download/Mars/Viking/valles_marineris_enhanced.tif/full.jpg'}]"
      ]
     },
     "execution_count": 107,
     "metadata": {},
     "output_type": "execute_result"
    }
   ],
   "source": [
    "hemisphere_image_urls"
   ]
  },
  {
   "cell_type": "code",
   "execution_count": 56,
   "metadata": {},
   "outputs": [],
   "source": [
    "import pymongo\n"
   ]
  },
  {
   "cell_type": "code",
   "execution_count": 59,
   "metadata": {},
   "outputs": [],
   "source": [
    "conn = 'mongodb://localhost:27017'\n",
    "client = pymongo.MongoClient(conn)\n"
   ]
  },
  {
   "cell_type": "code",
   "execution_count": 60,
   "metadata": {},
   "outputs": [],
   "source": [
    "db = client.scrape_db\n",
    "collection = db.mars\n"
   ]
  },
  {
   "cell_type": "code",
   "execution_count": 114,
   "metadata": {},
   "outputs": [
    {
     "name": "stderr",
     "output_type": "stream",
     "text": [
      "C:\\Users\\Tiaan\\anaconda3\\lib\\site-packages\\ipykernel_launcher.py:1: DeprecationWarning: remove is deprecated. Use delete_one or delete_many instead.\n",
      "  \"\"\"Entry point for launching an IPython kernel.\n"
     ]
    }
   ],
   "source": [
    "collection.remove({})\n",
    "\n",
    "collection.insert_one(mars_table_dic)\n",
    "for item in text_dic:\n",
    "    collection.insert_one(item)\n",
    "for item in hemisphere_image_urls:\n",
    "    collection.insert_one(item)"
   ]
  },
  {
   "cell_type": "code",
   "execution_count": 115,
   "metadata": {},
   "outputs": [
    {
     "name": "stdout",
     "output_type": "stream",
     "text": [
      "https://astropedia.astrogeology.usgs.gov/download/Mars/Viking/cerberus_enhanced.tif/full.jpg\n",
      "https://astropedia.astrogeology.usgs.gov/download/Mars/Viking/schiaparelli_enhanced.tif/full.jpg\n",
      "https://astropedia.astrogeology.usgs.gov/download/Mars/Viking/syrtis_major_enhanced.tif/full.jpg\n",
      "https://astropedia.astrogeology.usgs.gov/download/Mars/Viking/valles_marineris_enhanced.tif/full.jpg\n"
     ]
    }
   ],
   "source": [
    "for item in collection.find():\n",
    "    if item['type']==\"titleimg\":\n",
    "        print(item[\"img_url\"])"
   ]
  },
  {
   "cell_type": "code",
   "execution_count": 110,
   "metadata": {},
   "outputs": [
    {
     "name": "stderr",
     "output_type": "stream",
     "text": [
      "C:\\Users\\Tiaan\\anaconda3\\lib\\site-packages\\ipykernel_launcher.py:1: DeprecationWarning: remove is deprecated. Use delete_one or delete_many instead.\n",
      "  \"\"\"Entry point for launching an IPython kernel.\n"
     ]
    },
    {
     "data": {
      "text/plain": [
       "{'n': 0, 'ok': 1.0}"
      ]
     },
     "execution_count": 110,
     "metadata": {},
     "output_type": "execute_result"
    }
   ],
   "source": [
    "collection.remove({})"
   ]
  }
 ],
 "metadata": {
  "kernelspec": {
   "display_name": "Python 3",
   "language": "python",
   "name": "python3"
  },
  "language_info": {
   "codemirror_mode": {
    "name": "ipython",
    "version": 3
   },
   "file_extension": ".py",
   "mimetype": "text/x-python",
   "name": "python",
   "nbconvert_exporter": "python",
   "pygments_lexer": "ipython3",
   "version": "3.7.6"
  }
 },
 "nbformat": 4,
 "nbformat_minor": 4
}
